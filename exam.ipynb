{
  "nbformat": 4,
  "nbformat_minor": 0,
  "metadata": {
    "colab": {
      "provenance": []
    },
    "kernelspec": {
      "name": "python3",
      "display_name": "Python 3"
    },
    "language_info": {
      "name": "python"
    }
  },
  "cells": [
    {
      "cell_type": "code",
      "execution_count": 8,
      "metadata": {
        "colab": {
          "base_uri": "https://localhost:8080/"
        },
        "id": "CP7qSNutcFVw",
        "outputId": "04db094a-3873-4f1f-f1a5-7aa62b7132aa"
      },
      "outputs": [
        {
          "output_type": "execute_result",
          "data": {
            "text/plain": [
              "[1, 2]"
            ]
          },
          "metadata": {},
          "execution_count": 8
        }
      ],
      "source": [
        "def twoSum(nums,target):\n",
        "  seen={}\n",
        "  for i,j in enumerate(nums):\n",
        "    k = target - nums[i]\n",
        "    if k in seen:\n",
        "      return [seen[k], i]\n",
        "    seen[j]=i\n",
        "    \n",
        "nums = [3,2,4]\n",
        "target=6\n",
        "twoSum(nums,target)\n",
        "\n"
      ]
    }
  ]
}