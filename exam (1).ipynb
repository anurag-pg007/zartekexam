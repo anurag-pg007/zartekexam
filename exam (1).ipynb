{
  "nbformat": 4,
  "nbformat_minor": 0,
  "metadata": {
    "colab": {
      "provenance": []
    },
    "kernelspec": {
      "name": "python3",
      "display_name": "Python 3"
    },
    "language_info": {
      "name": "python"
    }
  },
  "cells": [
    {
      "cell_type": "code",
      "execution_count": 9,
      "metadata": {
        "colab": {
          "base_uri": "https://localhost:8080/"
        },
        "id": "CP7qSNutcFVw",
        "outputId": "a40cb5f6-e34c-4d4f-fccd-8a7bd3d73206"
      },
      "outputs": [
        {
          "output_type": "execute_result",
          "data": {
            "text/plain": [
              "[1, 2]"
            ]
          },
          "metadata": {},
          "execution_count": 9
        }
      ],
      "source": [
        "def indexSum(nums,target):\n",
        "  has={}\n",
        "  for i,j in enumerate(nums):\n",
        "    k = target - nums[i]\n",
        "    if k in has:\n",
        "      return [has[k], i]\n",
        "    has[j]=i\n",
        "    \n",
        "nums = [3,2,4]\n",
        "target=6\n",
        "indexSum(nums,target)\n",
        "\n"
      ]
    }
  ]
}